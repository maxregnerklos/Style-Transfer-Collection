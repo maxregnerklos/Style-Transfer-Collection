{
  "nbformat": 4,
  "nbformat_minor": 0,
  "metadata": {
    "kernelspec": {
      "display_name": "Python 3",
      "language": "python",
      "name": "python3"
    },
    "language_info": {
      "codemirror_mode": {
        "name": "ipython",
        "version": 3
      },
      "file_extension": ".py",
      "mimetype": "text/x-python",
      "name": "python",
      "nbconvert_exporter": "python",
      "pygments_lexer": "ipython3",
      "version": "3.6.3"
    },
    "colab": {
      "name": "(Video) pytorch-AdaIN.ipynb",
      "provenance": [],
      "collapsed_sections": [],
      "include_colab_link": true
    },
    "accelerator": "GPU"
  },
  "cells": [
    {
      "cell_type": "markdown",
      "metadata": {
        "id": "view-in-github",
        "colab_type": "text"
      },
      "source": [
        "<a href=\"https://colab.research.google.com/github/tg-bomze/Style-Transfer-Collection/blob/master/(Video)_pytorch_AdaIN.ipynb\" target=\"_parent\"><img src=\"https://colab.research.google.com/assets/colab-badge.svg\" alt=\"Open In Colab\"/></a>"
      ]
    },
    {
      "cell_type": "markdown",
      "metadata": {
        "id": "pKuomnCGTcgR"
      },
      "source": [
        "<b><font color=\"black\" size=\"+4\">pytorch-AdaIN (VIDEO)</font></b>\n",
        "\n",
        "<b><font color=\"black\" size=\"+2\">Based on:</font></b>\n",
        "\n",
        "**GitHub repository**: [pytorch-AdaIN](https://github.com/naoto0804/pytorch-AdaIN)\n",
        "\n",
        "Article: [Arbitrary Style Transfer in Real-time with Adaptive Instance Normalization](https://arxiv.org/abs/1703.06868)\n",
        "\n",
        "Creators: **[Naoto Inoue](https://github.com/naoto0804), [Xun Huang](https://github.com/xunhuang1995).**\n",
        "\n",
        "<b><font color=\"black\" size=\"+2\">Colab created by:</font></b>\n",
        "\n",
        "GitHub: [@tg-bomze](https://github.com/tg-bomze),\n",
        "Telegram: [@bomze](https://t.me/bomze),\n",
        "Twitter: [@tg_bomze](https://twitter.com/tg_bomze).\n",
        "\n",
        "---\n",
        "\n",
        "\n",
        "```\n",
        "(ENG) To get started, click on the button (where the red arrow indicates). After clicking, wait until the execution is complete.\n",
        "```\n",
        "```\n",
        "(RUS) Чтобы начать, нажмите на кнопку (куда указывает красная стрелка), после чего дождитесь завершения выполнения блока.\n",
        "```\n"
      ]
    },
    {
      "cell_type": "code",
      "metadata": {
        "id": "psPkyz9JFUB8",
        "cellView": "form"
      },
      "source": [
        "#@title <b><font color=\"red\" size=\"+3\">←</font><font color=\"black\" size=\"+3\"> Install other necessary libraries</font></b>\n",
        "#@markdown <b><font color=\"black\" size=\"+1\"> (RUS) Установить прочие необходимые библиотеки</font></b>\n",
        "import os\n",
        "import io\n",
        "import cv2\n",
        "from PIL import Image\n",
        "import imageio\n",
        "import numpy as np\n",
        "from google.colab import files\n",
        "import matplotlib.pyplot as plt\n",
        "import matplotlib.animation as animation\n",
        "from IPython.display import clear_output\n",
        "from IPython.display import HTML\n",
        "import moviepy.editor as mpy\n",
        "from moviepy.video.io.ffmpeg_writer import FFMPEG_VideoWriter\n",
        "from IPython import display as ipythondisplay\n",
        "from IPython.display import Image as ipythonimage\n",
        "%matplotlib inline\n",
        "\n",
        "!git clone https://github.com/naoto0804/pytorch-AdaIN.git\n",
        "%cd /content/pytorch-AdaIN\n",
        "\n",
        "!mkdir models\n",
        "%cd /content/pytorch-AdaIN/models\n",
        "!gdown https://drive.google.com/uc?id=1bMfhMMwPeXnYSQI6cDWElSZxOxc6aVyr\n",
        "!gdown https://drive.google.com/uc?id=1EpkBA2K2eYILDSyPTt0fztz59UjAIpZU\n",
        "%cd /content/pytorch-AdaIN"
      ],
      "execution_count": null,
      "outputs": []
    },
    {
      "cell_type": "code",
      "metadata": {
        "id": "e0MdNjjx_ELy",
        "cellView": "form"
      },
      "source": [
        "#@title <b><font color=\"red\" size=\"+3\">←</font><font color=\"black\" size=\"+3\"> Upload video (content)</font></b>\n",
        "#@markdown <b><font color=\"black\" size=\"+1\"> (RUS) Загрузить видео (оригинал)</font></b>\n",
        "\n",
        "!rm -rf video\n",
        "!mkdir video\n",
        "uploaded = list(files.upload().keys())\n",
        "\n",
        "if len(uploaded) > 1:\n",
        "  raise ValueError('You cannot upload more than one video at a time!')\n",
        "\n",
        "vid = uploaded[0]\n",
        "os.rename(vid, vid.replace(\" \", \"\"))\n",
        "vid = vid.replace(\" \", \"\")\n",
        "!mv -f $vid video/driving.mp4\n",
        "vid = '/content/pytorch-AdaIN/video/driving.mp4'\n",
        "\n",
        "fps_of_video = int(cv2.VideoCapture(vid).get(cv2.CAP_PROP_FPS))\n",
        "frames_of_video = int(cv2.VideoCapture(vid).get(cv2.CAP_PROP_FRAME_COUNT))"
      ],
      "execution_count": null,
      "outputs": []
    },
    {
      "cell_type": "code",
      "metadata": {
        "id": "C2kCpkJaKsMg",
        "cellView": "form"
      },
      "source": [
        "#@title <b><font color=\"red\" size=\"+3\">←</font><font color=\"black\" size=\"+3\"> Split video into frames</font></b>\n",
        "#@markdown <b><font color=\"black\" size=\"+1\"> (RUS) Порезать видео на кадры</font></b>\n",
        "\n",
        "!rm -rf frames\n",
        "!mkdir frames\n",
        "\n",
        "frames_of_video = int(cv2.VideoCapture(vid).get(cv2.CAP_PROP_FRAME_COUNT))\n",
        "fps_of_video = int(cv2.VideoCapture(vid).get(cv2.CAP_PROP_FPS))\n",
        "vidcap = cv2.VideoCapture(vid)\n",
        "success,image = vidcap.read()\n",
        "count = 0\n",
        "success = True\n",
        "while success:\n",
        "  cv2.imwrite(\"frames/frame%09d.jpg\" % count, image)\n",
        "  success,image = vidcap.read()\n",
        "  count += 1\n",
        "\n",
        "frames = []\n",
        "fram = os.listdir(\"/content/pytorch-AdaIN/frames\")\n",
        "fram.sort()\n",
        "\n",
        "fram_path = '/content/pytorch-AdaIN/frames/' + fram[0]\n",
        "print(\"First frame:\\n\")\n",
        "display(Image.open(fram_path).resize((300, 300)))"
      ],
      "execution_count": null,
      "outputs": []
    },
    {
      "cell_type": "code",
      "metadata": {
        "id": "Pgv5MMFRXGkx",
        "cellView": "form"
      },
      "source": [
        "#@title <b><font color=\"red\" size=\"+3\">←</font><font color=\"black\" size=\"+3\"> Upload image (style)</font></b>\n",
        "#@markdown <b><font color=\"black\" size=\"+1\"> (RUS) Загрузить фото (стиль)</font></b>\n",
        "\n",
        "uploaded = files.upload()\n",
        "for fn in uploaded.keys():\n",
        "  print('User uploaded file \"{name}\" with length {length} bytes'.format(name=fn, length=len(uploaded[fn])))\n",
        "os.rename(fn, fn.replace(\" \", \"\"))\n",
        "fn = fn.replace(\" \", \"\")\n",
        "pic_name = \"photo.\" + fn.split(\".\")[-1]\n",
        "!mv -f $fn $pic_name\n",
        "\n",
        "display(Image.open(pic_name).resize((300, 300)))"
      ],
      "execution_count": null,
      "outputs": []
    },
    {
      "cell_type": "code",
      "metadata": {
        "id": "GpKC4BSmZEr0",
        "cellView": "form"
      },
      "source": [
        "#@title <b><font color=\"red\" size=\"+3\">←</font><font color=\"black\" size=\"+3\"> Style Transfer</font></b>\n",
        "#@markdown <b><font color=\"black\" size=\"+1\"> (RUS) Перенести стиль из фото на видео</font></b>\n",
        "%%time\n",
        "!rm -rf stylized_frames\n",
        "!mkdir stylized_frames\n",
        "\n",
        "im = Image.open(fram_path)\n",
        "(width, height) = im.size\n",
        "min_size_cont = min(width, height)\n",
        "\n",
        "im = Image.open(pic_name)\n",
        "(width, height) = im.size\n",
        "min_size_styl = min(width, height)\n",
        "\n",
        "temp_path = '/content/pytorch-AdaIN/frames'\n",
        "output_path = '/content/pytorch-AdaIN/stylized_frames'\n",
        "!CUDA_VISIBLE_DEVICES=0 python test.py --content_dir $temp_path --style $pic_name --output $output_path --content_size $min_size_cont --style_size $min_size_styl\n"
      ],
      "execution_count": null,
      "outputs": []
    },
    {
      "cell_type": "code",
      "metadata": {
        "id": "wOW3AC4iTFoa",
        "cellView": "form"
      },
      "source": [
        "#@title <b><font color=\"red\" size=\"+3\">←</font><font color=\"black\" size=\"+3\"> Join frames in a video</font></b>\n",
        "#@markdown <b><font color=\"black\" size=\"+1\"> (RUS) Собрать кадры в видео</font></b>\n",
        "!ffmpeg -y -i $vid -vn -ar 44100 -ac 2 -ab 192K -f mp3 sound.mp3\n",
        "staffs = []\n",
        "img = os.listdir(\"/content/pytorch-AdaIN/stylized_frames\")\n",
        "img.sort()\n",
        "for i in img:\n",
        "  staffs.append(\"/content/pytorch-AdaIN/stylized_frames/\"+i)\n",
        "\n",
        "staff = cv2.imread(staffs[0])  # get size from the 1st frame\n",
        "writer = cv2.VideoWriter(\n",
        "    'stylized_video.mp4',\n",
        "    cv2.VideoWriter_fourcc(*'MP4V'),   # codec (*'DIVX', *'MP4V', *'FMP4', *'MJPG', *'XVID', *'MP4S')\n",
        "    fps_of_video,  # fps\n",
        "    (staff.shape[1], staff.shape[0]),  # width, height\n",
        "    isColor=len(staff.shape) > 2)\n",
        "for staff in map(cv2.imread, staffs):\n",
        "    writer.write(staff)\n",
        "writer.release()\n",
        "\n",
        "dstvid = 'stylized_video.mp4'\n",
        "tmpfile = dstvid.replace('.mp4', '-audio.mp4')\n",
        "!ffmpeg -i sound.mp3 -i $dstvid $tmpfile\n",
        "#!rm -rf $dstvid\n",
        "!mv -f $tmpfile $dstvid"
      ],
      "execution_count": null,
      "outputs": []
    },
    {
      "cell_type": "code",
      "metadata": {
        "id": "nlXUaY-QNvAM",
        "cellView": "form"
      },
      "source": [
        "#@title <b><font color=\"red\" size=\"+3\">←</font><font color=\"black\" size=\"+3\"> Download the final video</font></b>\n",
        "#@markdown <b><font color=\"black\" size=\"+1\"> (RUS) Скачать финальное видео</font></b>\n",
        "files.download('/content/pytorch-AdaIN/stylized_video.mp4')"
      ],
      "execution_count": null,
      "outputs": []
    }
  ]
}